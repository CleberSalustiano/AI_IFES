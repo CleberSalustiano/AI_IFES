{
  "nbformat": 4,
  "nbformat_minor": 0,
  "metadata": {
    "colab": {
      "provenance": [],
      "authorship_tag": "ABX9TyMH+PzBoyqvLHF5zsuc2dAj",
      "include_colab_link": true
    },
    "kernelspec": {
      "name": "python3",
      "display_name": "Python 3"
    },
    "language_info": {
      "name": "python"
    }
  },
  "cells": [
    {
      "cell_type": "markdown",
      "metadata": {
        "id": "view-in-github",
        "colab_type": "text"
      },
      "source": [
        "<a href=\"https://colab.research.google.com/github/CleberSalustiano/AI_IFES/blob/main/Pandas_Python_Exercicios/Python_Pandas.ipynb\" target=\"_parent\"><img src=\"https://colab.research.google.com/assets/colab-badge.svg\" alt=\"Open In Colab\"/></a>"
      ]
    },
    {
      "cell_type": "markdown",
      "source": [
        "# Conhecendo Pandas\n",
        "\n",
        "## Series"
      ],
      "metadata": {
        "id": "NzSzDxAfz7C2"
      }
    },
    {
      "cell_type": "code",
      "execution_count": null,
      "metadata": {
        "colab": {
          "base_uri": "https://localhost:8080/"
        },
        "id": "gJK1jzW6zLyW",
        "outputId": "f849abcd-832a-4719-b3eb-27652f6fbba1"
      },
      "outputs": [
        {
          "output_type": "stream",
          "name": "stdout",
          "text": [
            "0    1.0\n",
            "1    3.0\n",
            "2    5.0\n",
            "3    NaN\n",
            "4    6.0\n",
            "5    8.0\n",
            "dtype: float64\n"
          ]
        }
      ],
      "source": [
        "import pandas as pd\n",
        "import numpy as np\n",
        "\n",
        "# Criando uma Series\n",
        "s = pd.Series([1, 3, 5, np.nan, 6, 8])\n",
        "\n",
        "# Exibindo a Series\n",
        "print(s)"
      ]
    },
    {
      "cell_type": "markdown",
      "source": [
        "## Dataframe\n",
        "\n",
        "Seria a ideia de uma planilha do excel como uma estrutura de dados.\n"
      ],
      "metadata": {
        "id": "Gg9Fmt3K0Q2X"
      }
    },
    {
      "cell_type": "code",
      "source": [
        "# Criando um DataFrame a partir de um dicionário\n",
        "data = {'Nome': ['João', 'Maria', 'Ana', 'Pedro'],\n",
        " 'Idade': [25, 30, 28, 35],\n",
        " 'Cidade': ['São Paulo', 'Rio de Janeiro', 'Belo Horizonte', 'Porto Alegre']}\n",
        "\n",
        "df = pd.DataFrame(data)\n",
        "\n",
        "# Exibindo o DataFrame\n",
        "print(df)"
      ],
      "metadata": {
        "colab": {
          "base_uri": "https://localhost:8080/"
        },
        "id": "dzqumVl20Y51",
        "outputId": "eef9fcc1-1942-4fc9-8e8d-4bf7fdb6acee"
      },
      "execution_count": null,
      "outputs": [
        {
          "output_type": "stream",
          "name": "stdout",
          "text": [
            "    Nome  Idade          Cidade\n",
            "0   João     25       São Paulo\n",
            "1  Maria     30  Rio de Janeiro\n",
            "2    Ana     28  Belo Horizonte\n",
            "3  Pedro     35    Porto Alegre\n"
          ]
        }
      ]
    },
    {
      "cell_type": "code",
      "source": [
        "# Carregando dados de um arquivo CSV\n",
        "df = pd.read_csv('sample_data/california_housing_test.csv')\n",
        "\n",
        "# Exibindo as primeiras linhas do DataFrame\n",
        "print(df.head())"
      ],
      "metadata": {
        "colab": {
          "base_uri": "https://localhost:8080/"
        },
        "id": "SAcWu2si1och",
        "outputId": "f3b5c6ae-2104-48e4-cdeb-057aef984fd7"
      },
      "execution_count": null,
      "outputs": [
        {
          "output_type": "stream",
          "name": "stdout",
          "text": [
            "   longitude  latitude  housing_median_age  total_rooms  total_bedrooms  \\\n",
            "0    -122.05     37.37                27.0       3885.0           661.0   \n",
            "1    -118.30     34.26                43.0       1510.0           310.0   \n",
            "2    -117.81     33.78                27.0       3589.0           507.0   \n",
            "3    -118.36     33.82                28.0         67.0            15.0   \n",
            "4    -119.67     36.33                19.0       1241.0           244.0   \n",
            "\n",
            "   population  households  median_income  median_house_value  \n",
            "0      1537.0       606.0         6.6085            344700.0  \n",
            "1       809.0       277.0         3.5990            176500.0  \n",
            "2      1484.0       495.0         5.7934            270500.0  \n",
            "3        49.0        11.0         6.1359            330000.0  \n",
            "4       850.0       237.0         2.9375             81700.0  \n"
          ]
        }
      ]
    },
    {
      "cell_type": "markdown",
      "source": [
        "## Tarefas Padrões"
      ],
      "metadata": {
        "id": "nBI50Ix17kP1"
      }
    },
    {
      "cell_type": "code",
      "source": [
        "# Verificando a quantidade de linhas e colunas\n",
        "print(\"Quantidade de linhas e colunas: \")\n",
        "print(df.shape)\n",
        "print()\n",
        "# Exibindo os nomes das colunas\n",
        "print(\"Nome das Colunas: \")\n",
        "print(df.columns)\n",
        "print()\n",
        "# Verificando os tipos de dados das colunas\n",
        "print(\"Tipo de dados por coluna: \")\n",
        "print(df.dtypes)\n",
        "print()\n",
        "# Exibindo informações gerais do DataFrame\n",
        "print(\"Informações gerais do DataFrame: \")\n",
        "print(df.info())"
      ],
      "metadata": {
        "colab": {
          "base_uri": "https://localhost:8080/"
        },
        "id": "yo-uvPln1yYw",
        "outputId": "8a145438-248e-4979-aed0-3d8d1b663c7f"
      },
      "execution_count": null,
      "outputs": [
        {
          "output_type": "stream",
          "name": "stdout",
          "text": [
            "Quantidade de linhas e colunas: \n",
            "(3000, 9)\n",
            "\n",
            "Nome das Colunas: \n",
            "Index(['longitude', 'latitude', 'housing_median_age', 'total_rooms',\n",
            "       'total_bedrooms', 'population', 'households', 'median_income',\n",
            "       'median_house_value'],\n",
            "      dtype='object')\n",
            "\n",
            "Tipo de dados por coluna: \n",
            "longitude             float64\n",
            "latitude              float64\n",
            "housing_median_age    float64\n",
            "total_rooms           float64\n",
            "total_bedrooms        float64\n",
            "population            float64\n",
            "households            float64\n",
            "median_income         float64\n",
            "median_house_value    float64\n",
            "dtype: object\n",
            "\n",
            "Informações gerais do DataFrame: \n",
            "<class 'pandas.core.frame.DataFrame'>\n",
            "RangeIndex: 3000 entries, 0 to 2999\n",
            "Data columns (total 9 columns):\n",
            " #   Column              Non-Null Count  Dtype  \n",
            "---  ------              --------------  -----  \n",
            " 0   longitude           3000 non-null   float64\n",
            " 1   latitude            3000 non-null   float64\n",
            " 2   housing_median_age  3000 non-null   float64\n",
            " 3   total_rooms         3000 non-null   float64\n",
            " 4   total_bedrooms      3000 non-null   float64\n",
            " 5   population          3000 non-null   float64\n",
            " 6   households          3000 non-null   float64\n",
            " 7   median_income       3000 non-null   float64\n",
            " 8   median_house_value  3000 non-null   float64\n",
            "dtypes: float64(9)\n",
            "memory usage: 211.1 KB\n",
            "None\n"
          ]
        }
      ]
    },
    {
      "cell_type": "code",
      "source": [
        "# Calculando estatísticas descritivas básicas\n",
        "print(df.describe())\n",
        "# Calculando a média de uma coluna\n",
        "print(df['latitude'].mean())\n",
        "# Calculando a contagem de valores únicos em uma coluna\n",
        "print(df['latitude'].value_counts())"
      ],
      "metadata": {
        "colab": {
          "base_uri": "https://localhost:8080/"
        },
        "id": "gfbY-LlN2YFZ",
        "outputId": "8c96b40e-b900-43ac-e5e8-1b44f0fafd2e"
      },
      "execution_count": null,
      "outputs": [
        {
          "output_type": "stream",
          "name": "stdout",
          "text": [
            "         longitude    latitude  housing_median_age   total_rooms  \\\n",
            "count  3000.000000  3000.00000         3000.000000   3000.000000   \n",
            "mean   -119.589200    35.63539           28.845333   2599.578667   \n",
            "std       1.994936     2.12967           12.555396   2155.593332   \n",
            "min    -124.180000    32.56000            1.000000      6.000000   \n",
            "25%    -121.810000    33.93000           18.000000   1401.000000   \n",
            "50%    -118.485000    34.27000           29.000000   2106.000000   \n",
            "75%    -118.020000    37.69000           37.000000   3129.000000   \n",
            "max    -114.490000    41.92000           52.000000  30450.000000   \n",
            "\n",
            "       total_bedrooms    population  households  median_income  \\\n",
            "count     3000.000000   3000.000000  3000.00000    3000.000000   \n",
            "mean       529.950667   1402.798667   489.91200       3.807272   \n",
            "std        415.654368   1030.543012   365.42271       1.854512   \n",
            "min          2.000000      5.000000     2.00000       0.499900   \n",
            "25%        291.000000    780.000000   273.00000       2.544000   \n",
            "50%        437.000000   1155.000000   409.50000       3.487150   \n",
            "75%        636.000000   1742.750000   597.25000       4.656475   \n",
            "max       5419.000000  11935.000000  4930.00000      15.000100   \n",
            "\n",
            "       median_house_value  \n",
            "count          3000.00000  \n",
            "mean         205846.27500  \n",
            "std          113119.68747  \n",
            "min           22500.00000  \n",
            "25%          121200.00000  \n",
            "50%          177650.00000  \n",
            "75%          263975.00000  \n",
            "max          500001.00000  \n",
            "35.635389999999994\n",
            "34.02    35\n",
            "34.06    33\n",
            "34.05    32\n",
            "34.07    31\n",
            "34.11    31\n",
            "         ..\n",
            "37.08     1\n",
            "39.19     1\n",
            "38.21     1\n",
            "36.55     1\n",
            "34.68     1\n",
            "Name: latitude, Length: 587, dtype: int64\n"
          ]
        }
      ]
    },
    {
      "cell_type": "code",
      "source": [
        "print(df.isnull().sum())\n",
        "# Preenchendo valores ausentes com a média da coluna\n",
        "df['latitude'].fillna(df['latitude'].mean(), inplace=True)\n",
        "# Removendo linhas com valores ausentes\n",
        "df.dropna(inplace=True)\n"
      ],
      "metadata": {
        "colab": {
          "base_uri": "https://localhost:8080/"
        },
        "id": "Aljf-G-F3a_l",
        "outputId": "8b164336-8d92-4ba1-868e-1c207a68ebda"
      },
      "execution_count": null,
      "outputs": [
        {
          "output_type": "stream",
          "name": "stdout",
          "text": [
            "longitude             0\n",
            "latitude              0\n",
            "housing_median_age    0\n",
            "total_rooms           0\n",
            "total_bedrooms        0\n",
            "population            0\n",
            "households            0\n",
            "median_income         0\n",
            "median_house_value    0\n",
            "dtype: int64\n"
          ]
        }
      ]
    },
    {
      "cell_type": "markdown",
      "source": [
        "## Filtro de dados a partir de uma condição"
      ],
      "metadata": {
        "id": "zOwRIIgx7N3V"
      }
    },
    {
      "cell_type": "code",
      "source": [
        "# Filtrando dados com base em uma condição\n",
        "filtro = df['latitude'] > 10\n",
        "df_filtrado = df[filtro]\n",
        "print(df_filtrado)"
      ],
      "metadata": {
        "colab": {
          "base_uri": "https://localhost:8080/"
        },
        "id": "i0oqx0XA6Jk1",
        "outputId": "48574e53-00b7-4055-9a0b-08f5d4f90136"
      },
      "execution_count": null,
      "outputs": [
        {
          "output_type": "stream",
          "name": "stdout",
          "text": [
            "      longitude  latitude  housing_median_age  total_rooms  total_bedrooms  \\\n",
            "0       -122.05     37.37                27.0       3885.0           661.0   \n",
            "1       -118.30     34.26                43.0       1510.0           310.0   \n",
            "2       -117.81     33.78                27.0       3589.0           507.0   \n",
            "3       -118.36     33.82                28.0         67.0            15.0   \n",
            "4       -119.67     36.33                19.0       1241.0           244.0   \n",
            "...         ...       ...                 ...          ...             ...   \n",
            "2995    -119.86     34.42                23.0       1450.0           642.0   \n",
            "2996    -118.14     34.06                27.0       5257.0          1082.0   \n",
            "2997    -119.70     36.30                10.0        956.0           201.0   \n",
            "2998    -117.12     34.10                40.0         96.0            14.0   \n",
            "2999    -119.63     34.42                42.0       1765.0           263.0   \n",
            "\n",
            "      population  households  median_income  median_house_value  \n",
            "0         1537.0       606.0         6.6085            344700.0  \n",
            "1          809.0       277.0         3.5990            176500.0  \n",
            "2         1484.0       495.0         5.7934            270500.0  \n",
            "3           49.0        11.0         6.1359            330000.0  \n",
            "4          850.0       237.0         2.9375             81700.0  \n",
            "...          ...         ...            ...                 ...  \n",
            "2995      1258.0       607.0         1.1790            225000.0  \n",
            "2996      3496.0      1036.0         3.3906            237200.0  \n",
            "2997       693.0       220.0         2.2895             62000.0  \n",
            "2998        46.0        14.0         3.2708            162500.0  \n",
            "2999       753.0       260.0         8.5608            500001.0  \n",
            "\n",
            "[3000 rows x 9 columns]\n"
          ]
        }
      ]
    },
    {
      "cell_type": "markdown",
      "source": [
        "## Ordenação de DataFrame"
      ],
      "metadata": {
        "id": "cnrzr64B7LMB"
      }
    },
    {
      "cell_type": "code",
      "source": [
        "# Ordenando o DataFrame com base em uma coluna\n",
        "df_ordenado = df.sort_values(by='latitude', ascending=False)\n",
        "print(df_ordenado)"
      ],
      "metadata": {
        "colab": {
          "base_uri": "https://localhost:8080/"
        },
        "id": "qsI89Oj66yCY",
        "outputId": "963147bc-23c0-4b72-f836-ae0332e27d86"
      },
      "execution_count": null,
      "outputs": [
        {
          "output_type": "stream",
          "name": "stdout",
          "text": [
            "      longitude  latitude  housing_median_age  total_rooms  total_bedrooms  \\\n",
            "910     -124.16     41.92                19.0       1668.0           324.0   \n",
            "1422    -124.17     41.80                16.0       2739.0           480.0   \n",
            "2951    -122.64     41.63                19.0       2722.0           479.0   \n",
            "2778    -123.92     41.54                22.0       2920.0           636.0   \n",
            "2018    -122.32     41.31                45.0       1393.0           294.0   \n",
            "...         ...       ...                 ...          ...             ...   \n",
            "2649    -117.13     32.58                27.0       2511.0           615.0   \n",
            "1045    -117.11     32.57                32.0       2723.0           586.0   \n",
            "1617    -117.12     32.57                35.0       1450.0           256.0   \n",
            "2371    -117.08     32.57                18.0       2203.0           544.0   \n",
            "1208    -117.09     32.56                 8.0        864.0           156.0   \n",
            "\n",
            "      population  households  median_income  median_house_value  \n",
            "910        841.0       283.0         2.1336             75000.0  \n",
            "1422      1259.0       436.0         3.7557            109400.0  \n",
            "2951      1108.0       430.0         3.1062            100000.0  \n",
            "2778      1382.0       499.0         2.0202             71100.0  \n",
            "2018       521.0       249.0         1.1915             71900.0  \n",
            "...          ...         ...            ...                 ...  \n",
            "2649      1427.0       576.0         3.1645            156000.0  \n",
            "1045      1702.0       562.0         3.3371            140500.0  \n",
            "1617       930.0       286.0         2.6715            133300.0  \n",
            "2371      1943.0       497.0         2.2500            103200.0  \n",
            "1208       626.0       172.0         4.8984            151500.0  \n",
            "\n",
            "[3000 rows x 9 columns]\n"
          ]
        }
      ]
    },
    {
      "cell_type": "markdown",
      "source": [
        "## Exportando arquivo CSV"
      ],
      "metadata": {
        "id": "yZxk9UYp7IXf"
      }
    },
    {
      "cell_type": "code",
      "source": [
        "# Exportando DataFrame para um arquivo CSV\n",
        "df.to_csv('dados_processados.csv', index=False)"
      ],
      "metadata": {
        "id": "utwlf1AM65E3"
      },
      "execution_count": null,
      "outputs": []
    },
    {
      "cell_type": "markdown",
      "source": [
        "## Adicionando uma nova coluna"
      ],
      "metadata": {
        "id": "Of8ig8uN78d-"
      }
    },
    {
      "cell_type": "code",
      "source": [
        "# Adicionando uma nova coluna com base em cálculos\n",
        "df['Latitude_Longitude'] = df['latitude'] + df['longitude']\n",
        "# Adicionando uma nova coluna com base em condições\n",
        "df['Latitude_relacao_com_dez'] = np.where(df['latitude'] > 35, 'Maior', 'Menor')\n",
        "print(df)"
      ],
      "metadata": {
        "colab": {
          "base_uri": "https://localhost:8080/"
        },
        "id": "aZW6ggkx795u",
        "outputId": "f5501d35-fc87-405a-fbe3-401ae6d64d3e"
      },
      "execution_count": null,
      "outputs": [
        {
          "output_type": "stream",
          "name": "stdout",
          "text": [
            "      longitude  latitude  housing_median_age  total_rooms  total_bedrooms  \\\n",
            "0       -122.05     37.37                27.0       3885.0           661.0   \n",
            "1       -118.30     34.26                43.0       1510.0           310.0   \n",
            "2       -117.81     33.78                27.0       3589.0           507.0   \n",
            "3       -118.36     33.82                28.0         67.0            15.0   \n",
            "4       -119.67     36.33                19.0       1241.0           244.0   \n",
            "...         ...       ...                 ...          ...             ...   \n",
            "2995    -119.86     34.42                23.0       1450.0           642.0   \n",
            "2996    -118.14     34.06                27.0       5257.0          1082.0   \n",
            "2997    -119.70     36.30                10.0        956.0           201.0   \n",
            "2998    -117.12     34.10                40.0         96.0            14.0   \n",
            "2999    -119.63     34.42                42.0       1765.0           263.0   \n",
            "\n",
            "      population  households  median_income  median_house_value  \\\n",
            "0         1537.0       606.0         6.6085            344700.0   \n",
            "1          809.0       277.0         3.5990            176500.0   \n",
            "2         1484.0       495.0         5.7934            270500.0   \n",
            "3           49.0        11.0         6.1359            330000.0   \n",
            "4          850.0       237.0         2.9375             81700.0   \n",
            "...          ...         ...            ...                 ...   \n",
            "2995      1258.0       607.0         1.1790            225000.0   \n",
            "2996      3496.0      1036.0         3.3906            237200.0   \n",
            "2997       693.0       220.0         2.2895             62000.0   \n",
            "2998        46.0        14.0         3.2708            162500.0   \n",
            "2999       753.0       260.0         8.5608            500001.0   \n",
            "\n",
            "      Latitude_Longitude Latitude_relacao_com_dez  \n",
            "0                 -84.68                    Maior  \n",
            "1                 -84.04                    Menor  \n",
            "2                 -84.03                    Menor  \n",
            "3                 -84.54                    Menor  \n",
            "4                 -83.34                    Maior  \n",
            "...                  ...                      ...  \n",
            "2995              -85.44                    Menor  \n",
            "2996              -84.08                    Menor  \n",
            "2997              -83.40                    Maior  \n",
            "2998              -83.02                    Menor  \n",
            "2999              -85.21                    Menor  \n",
            "\n",
            "[3000 rows x 11 columns]\n"
          ]
        }
      ]
    },
    {
      "cell_type": "markdown",
      "source": [
        "## Selecionando Colunas"
      ],
      "metadata": {
        "id": "7jAnrBho8Zyd"
      }
    },
    {
      "cell_type": "code",
      "source": [
        "# Selecionando uma coluna específica\n",
        "coluna = df['Coluna']\n",
        "# Selecionando múltiplas colunas\n",
        "colunas = df[['Coluna1', 'Coluna2']]\n",
        "# Selecionando linhas com base em uma condição\n",
        "linhas_filtradas = df[df['Coluna'] > 10]\n",
        "# Selecionando linhas com base em múltiplas condições\n",
        "linhas_filtradas = df[(df['Coluna1'] > 5) & (df['Coluna2'] < 3)]"
      ],
      "metadata": {
        "id": "GXeG3P-F8bX5"
      },
      "execution_count": null,
      "outputs": []
    },
    {
      "cell_type": "markdown",
      "source": [
        "## Agrupamento de dados"
      ],
      "metadata": {
        "id": "d_N-4R4G8lKI"
      }
    },
    {
      "cell_type": "code",
      "source": [
        "# Agrupando dados com base em uma coluna e calculando a média de outra\n",
        "agrupamento = df.groupby('latitude')['longitude'].mean()\n",
        "print(agrupamento)\n"
      ],
      "metadata": {
        "colab": {
          "base_uri": "https://localhost:8080/"
        },
        "id": "ERC-mtjV8m2g",
        "outputId": "b1b3cf9f-3783-4d49-b2d1-3cbdf06814d9"
      },
      "execution_count": null,
      "outputs": [
        {
          "output_type": "stream",
          "name": "stdout",
          "text": [
            "latitude\n",
            "32.56   -117.090000\n",
            "32.57   -117.103333\n",
            "32.58   -117.090000\n",
            "32.59   -117.090000\n",
            "32.60   -117.070000\n",
            "            ...    \n",
            "41.31   -122.320000\n",
            "41.54   -123.920000\n",
            "41.63   -122.640000\n",
            "41.80   -124.170000\n",
            "41.92   -124.160000\n",
            "Name: longitude, Length: 587, dtype: float64\n"
          ]
        }
      ]
    },
    {
      "cell_type": "markdown",
      "source": [
        "```py\n",
        "# Agrupando dados com base em múltiplas colunas e calculando estatísticas\n",
        "agrupamento = df.groupby(['Coluna1', 'Coluna2']).agg({'Coluna3': 'mean',\n",
        "'Coluna4': 'sum'})\n",
        "```"
      ],
      "metadata": {
        "id": "a0DvTZDUBDfi"
      }
    },
    {
      "cell_type": "code",
      "source": [
        "# Criando uma tabela dinâmica para resumir os dados\n",
        "tabela_dinamica = pd.pivot_table(df, values='Valor', index='Coluna1',\n",
        "columns='Coluna2', aggfunc=np.mean)"
      ],
      "metadata": {
        "id": "T4XMUZUq9hNA"
      },
      "execution_count": null,
      "outputs": []
    },
    {
      "cell_type": "markdown",
      "source": [
        "## Visualização de dados"
      ],
      "metadata": {
        "id": "AumJC5KD9s8x"
      }
    },
    {
      "cell_type": "code",
      "source": [
        "import matplotlib.pyplot as plt\n",
        "import seaborn as sns\n",
        "# Criando um gráfico de barras\n",
        "sns.barplot(x='latitude', y='longitude', data=df)\n",
        "plt.show()\n",
        "# Criando um gráfico de dispersão\n",
        "sns.scatterplot(x='latitude', y='longitude', data=df)\n",
        "plt.show()"
      ],
      "metadata": {
        "colab": {
          "base_uri": "https://localhost:8080/",
          "height": 887
        },
        "id": "LMrJz-Kv9hvL",
        "outputId": "f5776db3-6c16-4fa9-a6b3-708a9615d637"
      },
      "execution_count": null,
      "outputs": [
        {
          "output_type": "display_data",
          "data": {
            "text/plain": [
              "<Figure size 640x480 with 1 Axes>"
            ],
            "image/png": "[encoded data removed]"
          },
          "metadata": {}
        },
        {
          "output_type": "display_data",
          "data": {
            "text/plain": [
              "<Figure size 640x480 with 1 Axes>"
            ],
            "image/png": "[encoded data removed]"
          },
          "metadata": {}
        }
      ]
    },
    {
      "cell_type": "markdown",
      "source": [
        "## Dados Ausentes"
      ],
      "metadata": {
        "id": "SVUXd1du9wUj"
      }
    },
    {
      "cell_type": "code",
      "source": [
        "# Verificando se há valores ausentes em cada coluna\n",
        "print(df.isnull().sum())\n",
        "# Verificando se há valores ausentes em todo o DataFrame\n",
        "print(df.isnull().any().any())\n",
        "\n",
        "# Removendo linhas com valores ausentes\n",
        "df.dropna()\n",
        "# Removendo colunas com valores ausentes\n",
        "df.dropna(axis=1)\n",
        "# Removendo linhas com valores ausentes em colunas específicas\n",
        "df.dropna(subset=['latitude', 'longitude'])\n",
        "\n",
        "# Preenchendo valores ausentes com a média da coluna\n",
        "df['latitude'].fillna(df['latitude'].mean(), inplace=True)\n",
        "# Preenchendo valores ausentes com a mediana da coluna\n",
        "df['latitude'].fillna(df['latitude'].median(), inplace=True)\n",
        "print(df)\n",
        "\n",
        "\n",
        "# Preenchendo valores ausentes usando interpolação linear\n",
        "df['latitude'].interpolate(method='linear', inplace=True)\n",
        "print(df)"
      ],
      "metadata": {
        "colab": {
          "base_uri": "https://localhost:8080/"
        },
        "id": "QVBoMBYnAJxq",
        "outputId": "18a00b28-511a-4c9b-a7db-3eba190277e7"
      },
      "execution_count": null,
      "outputs": [
        {
          "output_type": "stream",
          "name": "stdout",
          "text": [
            "longitude                   0\n",
            "latitude                    0\n",
            "housing_median_age          0\n",
            "total_rooms                 0\n",
            "total_bedrooms              0\n",
            "population                  0\n",
            "households                  0\n",
            "median_income               0\n",
            "median_house_value          0\n",
            "Latitude_Longitude          0\n",
            "Latitude_relacao_com_dez    0\n",
            "dtype: int64\n",
            "False\n",
            "      longitude  latitude  housing_median_age  total_rooms  total_bedrooms  \\\n",
            "0       -122.05     37.37                27.0       3885.0           661.0   \n",
            "1       -118.30     34.26                43.0       1510.0           310.0   \n",
            "2       -117.81     33.78                27.0       3589.0           507.0   \n",
            "3       -118.36     33.82                28.0         67.0            15.0   \n",
            "4       -119.67     36.33                19.0       1241.0           244.0   \n",
            "...         ...       ...                 ...          ...             ...   \n",
            "2995    -119.86     34.42                23.0       1450.0           642.0   \n",
            "2996    -118.14     34.06                27.0       5257.0          1082.0   \n",
            "2997    -119.70     36.30                10.0        956.0           201.0   \n",
            "2998    -117.12     34.10                40.0         96.0            14.0   \n",
            "2999    -119.63     34.42                42.0       1765.0           263.0   \n",
            "\n",
            "      population  households  median_income  median_house_value  \\\n",
            "0         1537.0       606.0         6.6085            344700.0   \n",
            "1          809.0       277.0         3.5990            176500.0   \n",
            "2         1484.0       495.0         5.7934            270500.0   \n",
            "3           49.0        11.0         6.1359            330000.0   \n",
            "4          850.0       237.0         2.9375             81700.0   \n",
            "...          ...         ...            ...                 ...   \n",
            "2995      1258.0       607.0         1.1790            225000.0   \n",
            "2996      3496.0      1036.0         3.3906            237200.0   \n",
            "2997       693.0       220.0         2.2895             62000.0   \n",
            "2998        46.0        14.0         3.2708            162500.0   \n",
            "2999       753.0       260.0         8.5608            500001.0   \n",
            "\n",
            "      Latitude_Longitude Latitude_relacao_com_dez  \n",
            "0                 -84.68                    Maior  \n",
            "1                 -84.04                    Menor  \n",
            "2                 -84.03                    Menor  \n",
            "3                 -84.54                    Menor  \n",
            "4                 -83.34                    Maior  \n",
            "...                  ...                      ...  \n",
            "2995              -85.44                    Menor  \n",
            "2996              -84.08                    Menor  \n",
            "2997              -83.40                    Maior  \n",
            "2998              -83.02                    Menor  \n",
            "2999              -85.21                    Menor  \n",
            "\n",
            "[3000 rows x 11 columns]\n",
            "      longitude  latitude  housing_median_age  total_rooms  total_bedrooms  \\\n",
            "0       -122.05     37.37                27.0       3885.0           661.0   \n",
            "1       -118.30     34.26                43.0       1510.0           310.0   \n",
            "2       -117.81     33.78                27.0       3589.0           507.0   \n",
            "3       -118.36     33.82                28.0         67.0            15.0   \n",
            "4       -119.67     36.33                19.0       1241.0           244.0   \n",
            "...         ...       ...                 ...          ...             ...   \n",
            "2995    -119.86     34.42                23.0       1450.0           642.0   \n",
            "2996    -118.14     34.06                27.0       5257.0          1082.0   \n",
            "2997    -119.70     36.30                10.0        956.0           201.0   \n",
            "2998    -117.12     34.10                40.0         96.0            14.0   \n",
            "2999    -119.63     34.42                42.0       1765.0           263.0   \n",
            "\n",
            "      population  households  median_income  median_house_value  \\\n",
            "0         1537.0       606.0         6.6085            344700.0   \n",
            "1          809.0       277.0         3.5990            176500.0   \n",
            "2         1484.0       495.0         5.7934            270500.0   \n",
            "3           49.0        11.0         6.1359            330000.0   \n",
            "4          850.0       237.0         2.9375             81700.0   \n",
            "...          ...         ...            ...                 ...   \n",
            "2995      1258.0       607.0         1.1790            225000.0   \n",
            "2996      3496.0      1036.0         3.3906            237200.0   \n",
            "2997       693.0       220.0         2.2895             62000.0   \n",
            "2998        46.0        14.0         3.2708            162500.0   \n",
            "2999       753.0       260.0         8.5608            500001.0   \n",
            "\n",
            "      Latitude_Longitude Latitude_relacao_com_dez  \n",
            "0                 -84.68                    Maior  \n",
            "1                 -84.04                    Menor  \n",
            "2                 -84.03                    Menor  \n",
            "3                 -84.54                    Menor  \n",
            "4                 -83.34                    Maior  \n",
            "...                  ...                      ...  \n",
            "2995              -85.44                    Menor  \n",
            "2996              -84.08                    Menor  \n",
            "2997              -83.40                    Maior  \n",
            "2998              -83.02                    Menor  \n",
            "2999              -85.21                    Menor  \n",
            "\n",
            "[3000 rows x 11 columns]\n"
          ]
        }
      ]
    },
    {
      "cell_type": "markdown",
      "source": [
        "```py\n",
        "# Preenchendo valores ausentes com um valor específico\n",
        "df.fillna(value)\n",
        "# Extraindo o ano de uma coluna de datas\n",
        "df['Ano'] = df['Data'].dt.year\n",
        "# Extraindo o mês de uma coluna de datas\n",
        "df['Mês'] = df['Data'].dt.month\n",
        "# Extraindo o dia da semana de uma coluna de datas\n",
        "df['DiaSemana'] = df['Data'].dt.dayofweek\n",
        "# Agrupando e resampleando dados temporais por dia\n",
        "df.resample('D').mean()\n",
        "# Agrupando e resampleando dados temporais por mês\n",
        "df.resample('M').sum()\n",
        "```"
      ],
      "metadata": {
        "id": "7_opuIvZA2m5"
      }
    }
  ]
}