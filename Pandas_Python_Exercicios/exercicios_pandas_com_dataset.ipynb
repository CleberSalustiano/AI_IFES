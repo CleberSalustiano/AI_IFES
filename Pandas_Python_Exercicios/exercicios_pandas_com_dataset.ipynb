{
  "nbformat": 4,
  "nbformat_minor": 0,
  "metadata": {
    "colab": {
      "provenance": [],
      "authorship_tag": "ABX9TyMpuP9H1P3O4gFg4+2EPGLV",
      "include_colab_link": true
    },
    "kernelspec": {
      "name": "python3",
      "display_name": "Python 3"
    },
    "language_info": {
      "name": "python"
    }
  },
  "cells": [
    {
      "cell_type": "markdown",
      "metadata": {
        "id": "view-in-github",
        "colab_type": "text"
      },
      "source": [
        "<a href=\"https://colab.research.google.com/github/CleberSalustiano/AI_IFES/blob/main/Pandas_Python_Exercicios/exercicios_pandas_com_dataset.ipynb\" target=\"_parent\"><img src=\"https://colab.research.google.com/assets/colab-badge.svg\" alt=\"Open In Colab\"/></a>"
      ]
    },
    {
      "cell_type": "markdown",
      "source": [
        "# Exercícios com Dataset para treinamento do PANDAS."
      ],
      "metadata": {
        "id": "6vvyEQuRITBR"
      }
    },
    {
      "cell_type": "code",
      "execution_count": 2,
      "metadata": {
        "id": "Cs40sXMTHpcY"
      },
      "outputs": [],
      "source": [
        "import pandas as pd\n",
        "import numpy as np\n",
        "import matplotlib.pyplot as plt\n",
        "import seaborn as sns"
      ]
    },
    {
      "cell_type": "markdown",
      "source": [
        "Extrair CSV de arquivo ZIP."
      ],
      "metadata": {
        "id": "s6GHeZ2XM1bU"
      }
    },
    {
      "cell_type": "code",
      "source": [
        "!sudo apt-get install unzip\n",
        "!unzip house_prices.zip"
      ],
      "metadata": {
        "colab": {
          "base_uri": "https://localhost:8080/"
        },
        "id": "CguIU1IELxF7",
        "outputId": "b9dfed1d-b809-48b9-d360-014b8e41ac05"
      },
      "execution_count": 3,
      "outputs": [
        {
          "output_type": "stream",
          "name": "stdout",
          "text": [
            "Reading package lists... Done\n",
            "Building dependency tree... Done\n",
            "Reading state information... Done\n",
            "unzip is already the newest version (6.0-26ubuntu3.1).\n",
            "0 upgraded, 0 newly installed, 0 to remove and 16 not upgraded.\n",
            "Archive:  house_prices.zip\n",
            "  inflating: house_prices.csv        \n"
          ]
        }
      ]
    },
    {
      "cell_type": "code",
      "source": [
        "df = pd.read_csv(\"house_prices.csv\")\n",
        "df.columns"
      ],
      "metadata": {
        "colab": {
          "base_uri": "https://localhost:8080/"
        },
        "id": "b_wXEiDYIwiV",
        "outputId": "529e50c1-26dc-4d82-88b2-c86efe9ae137"
      },
      "execution_count": 4,
      "outputs": [
        {
          "output_type": "execute_result",
          "data": {
            "text/plain": [
              "Index(['Index', 'Title', 'Description', 'Amount(in rupees)',\n",
              "       'Price (in rupees)', 'location', 'Carpet Area', 'Status', 'Floor',\n",
              "       'Transaction', 'Furnishing', 'facing', 'overlooking', 'Society',\n",
              "       'Bathroom', 'Balcony', 'Car Parking', 'Ownership', 'Super Area',\n",
              "       'Dimensions', 'Plot Area'],\n",
              "      dtype='object')"
            ]
          },
          "metadata": {},
          "execution_count": 4
        }
      ]
    },
    {
      "cell_type": "markdown",
      "source": [
        "## Exercício 1 - Feature Engineering"
      ],
      "metadata": {
        "id": "E-gevlnHJMnm"
      }
    },
    {
      "cell_type": "code",
      "source": [
        "quantile = df['Price (in rupees)'].quantile([0.25, 0.5, 0.75])\n",
        "df['price_category'] = np.select([df['Price (in rupees)'] < quantile[0.25], df['Price (in rupees)'] > quantile[0.75]], [\"Low\", \"High\"], default=\"Medium\")\n",
        "df"
      ],
      "metadata": {
        "colab": {
          "base_uri": "https://localhost:8080/",
          "height": 1000
        },
        "id": "fS1xCf9BMoPi",
        "outputId": "e6f5a95c-95ea-4b0d-ae94-23517998b52b"
      },
      "execution_count": 5,
      "outputs": [
        {
          "output_type": "execute_result",
          "data": {
            "text/plain": [
              "         Index                                              Title  \\\n",
              "0            0  1 BHK Ready to Occupy Flat for sale in Srushti...   \n",
              "1            1  2 BHK Ready to Occupy Flat for sale in Dosti V...   \n",
              "2            2  2 BHK Ready to Occupy Flat for sale in Sunrise...   \n",
              "3            3        1 BHK Ready to Occupy Flat for sale Kasheli   \n",
              "4            4  2 BHK Ready to Occupy Flat for sale in TenX Ha...   \n",
              "...        ...                                                ...   \n",
              "187526  187526  3 BHK Ready to Occupy Flat for sale in Bollywo...   \n",
              "187527  187527  3 BHK Ready to Occupy Flat for sale in Sushma ...   \n",
              "187528  187528  3 BHK Ready to Occupy Flat for sale in Bollywo...   \n",
              "187529  187529  2 BHK Ready to Occupy Flat for sale in Friends...   \n",
              "187530  187530  3 BHK Ready to Occupy Flat for sale in Affinit...   \n",
              "\n",
              "                                              Description Amount(in rupees)  \\\n",
              "0       Bhiwandi, Thane has an attractive 1 BHK Flat f...           42 Lac    \n",
              "1       One can find this stunning 2 BHK flat for sale...           98 Lac    \n",
              "2       Up for immediate sale is a 2 BHK apartment in ...          1.40 Cr    \n",
              "3       This beautiful 1 BHK Flat is available for sal...           25 Lac    \n",
              "4       This lovely 2 BHK Flat in Pokhran Road, Thane ...          1.60 Cr    \n",
              "...                                                   ...               ...   \n",
              "187526  This magnificent 3 BHK Flat is available for s...           63 Lac    \n",
              "187527  Have a look at this immaculate 3 BHK flat for ...           55 Lac    \n",
              "187528  Gazipur, Zirakpur has an appealing 3 BHK flat ...           76 Lac    \n",
              "187529  Up for immediate sale is a 2 BHK apartment in ...           30 Lac    \n",
              "187530  This exquisite 3 BHK Flat is offered for sale ...          1.18 Cr    \n",
              "\n",
              "        Price (in rupees)  location Carpet Area         Status         Floor  \\\n",
              "0                  6000.0     thane    500 sqft  Ready to Move  10 out of 11   \n",
              "1                 13799.0     thane    473 sqft  Ready to Move   3 out of 22   \n",
              "2                 17500.0     thane    779 sqft  Ready to Move  10 out of 29   \n",
              "3                     NaN     thane    530 sqft  Ready to Move    1 out of 3   \n",
              "4                 18824.0     thane    635 sqft  Ready to Move  20 out of 42   \n",
              "...                   ...       ...         ...            ...           ...   \n",
              "187526             3225.0  zirakpur         NaN  Ready to Move    2 out of 4   \n",
              "187527             3274.0  zirakpur         NaN  Ready to Move    4 out of 6   \n",
              "187528             4343.0  zirakpur   1250 sqft  Ready to Move    1 out of 3   \n",
              "187529             4231.0  zirakpur         NaN  Ready to Move    2 out of 2   \n",
              "187530             6162.0  zirakpur         NaN  Ready to Move   5 out of 13   \n",
              "\n",
              "         Transaction  ...             overlooking  \\\n",
              "0             Resale  ...                     NaN   \n",
              "1             Resale  ...             Garden/Park   \n",
              "2             Resale  ...             Garden/Park   \n",
              "3             Resale  ...                     NaN   \n",
              "4             Resale  ...  Garden/Park, Main Road   \n",
              "...              ...  ...                     ...   \n",
              "187526  New Property  ...             Garden/Park   \n",
              "187527        Resale  ...  Garden/Park, Main Road   \n",
              "187528        Resale  ...  Garden/Park, Main Road   \n",
              "187529        Resale  ...               Main Road   \n",
              "187530        Resale  ...       Garden/Park, Pool   \n",
              "\n",
              "                                    Society Bathroom Balcony Car Parking  \\\n",
              "0       Srushti Siddhi Mangal Murti Complex        1       2         NaN   \n",
              "1                               Dosti Vihar        2     NaN      1 Open   \n",
              "2                      Sunrise by Kalpataru        2     NaN   1 Covered   \n",
              "3                                       NaN        1       1         NaN   \n",
              "4               TenX Habitat Raymond Realty        2     NaN   1 Covered   \n",
              "...                                     ...      ...     ...         ...   \n",
              "187526                    Bollywood Esencia        3       3   1 Covered   \n",
              "187527                   Sushma Urban Views        3     NaN   1 Covered   \n",
              "187528                    Bollywood Esencia        3       2  1 Covered,   \n",
              "187529                      Friends Enclave        2     NaN         NaN   \n",
              "187530                      Affinity Greens        4       4   1 Covered   \n",
              "\n",
              "                   Ownership Super Area Dimensions Plot Area  price_category  \n",
              "0                        NaN        NaN        NaN       NaN          Medium  \n",
              "1                   Freehold        NaN        NaN       NaN            High  \n",
              "2                   Freehold        NaN        NaN       NaN            High  \n",
              "3                        NaN        NaN        NaN       NaN          Medium  \n",
              "4       Co-operative Society        NaN        NaN       NaN            High  \n",
              "...                      ...        ...        ...       ...             ...  \n",
              "187526              Freehold  1953 sqft        NaN       NaN             Low  \n",
              "187527                   NaN  1680 sqft        NaN       NaN             Low  \n",
              "187528              Freehold        NaN        NaN       NaN          Medium  \n",
              "187529                   NaN   709 sqft        NaN       NaN             Low  \n",
              "187530              Freehold  1915 sqft        NaN       NaN          Medium  \n",
              "\n",
              "[187531 rows x 22 columns]"
            ],
            "text/html": [
              "\n",
              "\n",
              "  <div id=\"df-b48cd518-9b9e-4fac-aca5-6e1efcf0a64c\">\n",
              "    <div class=\"colab-df-container\">\n",
              "      <div>\n",
              "<style scoped>\n",
              "    .dataframe tbody tr th:only-of-type {\n",
              "        vertical-align: middle;\n",
              "    }\n",
              "\n",
              "    .dataframe tbody tr th {\n",
              "        vertical-align: top;\n",
              "    }\n",
              "\n",
              "    .dataframe thead th {\n",
              "        text-align: right;\n",
              "    }\n",
              "</style>\n",
              "<table border=\"1\" class=\"dataframe\">\n",
              "  <thead>\n",
              "    <tr style=\"text-align: right;\">\n",
              "      <th></th>\n",
              "      <th>Index</th>\n",
              "      <th>Title</th>\n",
              "      <th>Description</th>\n",
              "      <th>Amount(in rupees)</th>\n",
              "      <th>Price (in rupees)</th>\n",
              "      <th>location</th>\n",
              "      <th>Carpet Area</th>\n",
              "      <th>Status</th>\n",
              "      <th>Floor</th>\n",
              "      <th>Transaction</th>\n",
              "      <th>...</th>\n",
              "      <th>overlooking</th>\n",
              "      <th>Society</th>\n",
              "      <th>Bathroom</th>\n",
              "      <th>Balcony</th>\n",
              "      <th>Car Parking</th>\n",
              "      <th>Ownership</th>\n",
              "      <th>Super Area</th>\n",
              "      <th>Dimensions</th>\n",
              "      <th>Plot Area</th>\n",
              "      <th>price_category</th>\n",
              "    </tr>\n",
              "  </thead>\n",
              "  <tbody>\n",
              "    <tr>\n",
              "      <th>0</th>\n",
              "      <td>0</td>\n",
              "      <td>1 BHK Ready to Occupy Flat for sale in Srushti...</td>\n",
              "      <td>Bhiwandi, Thane has an attractive 1 BHK Flat f...</td>\n",
              "      <td>42 Lac</td>\n",
              "      <td>6000.0</td>\n",
              "      <td>thane</td>\n",
              "      <td>500 sqft</td>\n",
              "      <td>Ready to Move</td>\n",
              "      <td>10 out of 11</td>\n",
              "      <td>Resale</td>\n",
              "      <td>...</td>\n",
              "      <td>NaN</td>\n",
              "      <td>Srushti Siddhi Mangal Murti Complex</td>\n",
              "      <td>1</td>\n",
              "      <td>2</td>\n",
              "      <td>NaN</td>\n",
              "      <td>NaN</td>\n",
              "      <td>NaN</td>\n",
              "      <td>NaN</td>\n",
              "      <td>NaN</td>\n",
              "      <td>Medium</td>\n",
              "    </tr>\n",
              "    <tr>\n",
              "      <th>1</th>\n",
              "      <td>1</td>\n",
              "      <td>2 BHK Ready to Occupy Flat for sale in Dosti V...</td>\n",
              "      <td>One can find this stunning 2 BHK flat for sale...</td>\n",
              "      <td>98 Lac</td>\n",
              "      <td>13799.0</td>\n",
              "      <td>thane</td>\n",
              "      <td>473 sqft</td>\n",
              "      <td>Ready to Move</td>\n",
              "      <td>3 out of 22</td>\n",
              "      <td>Resale</td>\n",
              "      <td>...</td>\n",
              "      <td>Garden/Park</td>\n",
              "      <td>Dosti Vihar</td>\n",
              "      <td>2</td>\n",
              "      <td>NaN</td>\n",
              "      <td>1 Open</td>\n",
              "      <td>Freehold</td>\n",
              "      <td>NaN</td>\n",
              "      <td>NaN</td>\n",
              "      <td>NaN</td>\n",
              "      <td>High</td>\n",
              "    </tr>\n",
              "    <tr>\n",
              "      <th>2</th>\n",
              "      <td>2</td>\n",
              "      <td>2 BHK Ready to Occupy Flat for sale in Sunrise...</td>\n",
              "      <td>Up for immediate sale is a 2 BHK apartment in ...</td>\n",
              "      <td>1.40 Cr</td>\n",
              "      <td>17500.0</td>\n",
              "      <td>thane</td>\n",
              "      <td>779 sqft</td>\n",
              "      <td>Ready to Move</td>\n",
              "      <td>10 out of 29</td>\n",
              "      <td>Resale</td>\n",
              "      <td>...</td>\n",
              "      <td>Garden/Park</td>\n",
              "      <td>Sunrise by Kalpataru</td>\n",
              "      <td>2</td>\n",
              "      <td>NaN</td>\n",
              "      <td>1 Covered</td>\n",
              "      <td>Freehold</td>\n",
              "      <td>NaN</td>\n",
              "      <td>NaN</td>\n",
              "      <td>NaN</td>\n",
              "      <td>High</td>\n",
              "    </tr>\n",
              "    <tr>\n",
              "      <th>3</th>\n",
              "      <td>3</td>\n",
              "      <td>1 BHK Ready to Occupy Flat for sale Kasheli</td>\n",
              "      <td>This beautiful 1 BHK Flat is available for sal...</td>\n",
              "      <td>25 Lac</td>\n",
              "      <td>NaN</td>\n",
              "      <td>thane</td>\n",
              "      <td>530 sqft</td>\n",
              "      <td>Ready to Move</td>\n",
              "      <td>1 out of 3</td>\n",
              "      <td>Resale</td>\n",
              "      <td>...</td>\n",
              "      <td>NaN</td>\n",
              "      <td>NaN</td>\n",
              "      <td>1</td>\n",
              "      <td>1</td>\n",
              "      <td>NaN</td>\n",
              "      <td>NaN</td>\n",
              "      <td>NaN</td>\n",
              "      <td>NaN</td>\n",
              "      <td>NaN</td>\n",
              "      <td>Medium</td>\n",
              "    </tr>\n",
              "    <tr>\n",
              "      <th>4</th>\n",
              "      <td>4</td>\n",
              "      <td>2 BHK Ready to Occupy Flat for sale in TenX Ha...</td>\n",
              "      <td>This lovely 2 BHK Flat in Pokhran Road, Thane ...</td>\n",
              "      <td>1.60 Cr</td>\n",
              "      <td>18824.0</td>\n",
              "      <td>thane</td>\n",
              "      <td>635 sqft</td>\n",
              "      <td>Ready to Move</td>\n",
              "      <td>20 out of 42</td>\n",
              "      <td>Resale</td>\n",
              "      <td>...</td>\n",
              "      <td>Garden/Park, Main Road</td>\n",
              "      <td>TenX Habitat Raymond Realty</td>\n",
              "      <td>2</td>\n",
              "      <td>NaN</td>\n",
              "      <td>1 Covered</td>\n",
              "      <td>Co-operative Society</td>\n",
              "      <td>NaN</td>\n",
              "      <td>NaN</td>\n",
              "      <td>NaN</td>\n",
              "      <td>High</td>\n",
              "    </tr>\n",
              "    <tr>\n",
              "      <th>...</th>\n",
              "      <td>...</td>\n",
              "      <td>...</td>\n",
              "      <td>...</td>\n",
              "      <td>...</td>\n",
              "      <td>...</td>\n",
              "      <td>...</td>\n",
              "      <td>...</td>\n",
              "      <td>...</td>\n",
              "      <td>...</td>\n",
              "      <td>...</td>\n",
              "      <td>...</td>\n",
              "      <td>...</td>\n",
              "      <td>...</td>\n",
              "      <td>...</td>\n",
              "      <td>...</td>\n",
              "      <td>...</td>\n",
              "      <td>...</td>\n",
              "      <td>...</td>\n",
              "      <td>...</td>\n",
              "      <td>...</td>\n",
              "      <td>...</td>\n",
              "    </tr>\n",
              "    <tr>\n",
              "      <th>187526</th>\n",
              "      <td>187526</td>\n",
              "      <td>3 BHK Ready to Occupy Flat for sale in Bollywo...</td>\n",
              "      <td>This magnificent 3 BHK Flat is available for s...</td>\n",
              "      <td>63 Lac</td>\n",
              "      <td>3225.0</td>\n",
              "      <td>zirakpur</td>\n",
              "      <td>NaN</td>\n",
              "      <td>Ready to Move</td>\n",
              "      <td>2 out of 4</td>\n",
              "      <td>New Property</td>\n",
              "      <td>...</td>\n",
              "      <td>Garden/Park</td>\n",
              "      <td>Bollywood Esencia</td>\n",
              "      <td>3</td>\n",
              "      <td>3</td>\n",
              "      <td>1 Covered</td>\n",
              "      <td>Freehold</td>\n",
              "      <td>1953 sqft</td>\n",
              "      <td>NaN</td>\n",
              "      <td>NaN</td>\n",
              "      <td>Low</td>\n",
              "    </tr>\n",
              "    <tr>\n",
              "      <th>187527</th>\n",
              "      <td>187527</td>\n",
              "      <td>3 BHK Ready to Occupy Flat for sale in Sushma ...</td>\n",
              "      <td>Have a look at this immaculate 3 BHK flat for ...</td>\n",
              "      <td>55 Lac</td>\n",
              "      <td>3274.0</td>\n",
              "      <td>zirakpur</td>\n",
              "      <td>NaN</td>\n",
              "      <td>Ready to Move</td>\n",
              "      <td>4 out of 6</td>\n",
              "      <td>Resale</td>\n",
              "      <td>...</td>\n",
              "      <td>Garden/Park, Main Road</td>\n",
              "      <td>Sushma Urban Views</td>\n",
              "      <td>3</td>\n",
              "      <td>NaN</td>\n",
              "      <td>1 Covered</td>\n",
              "      <td>NaN</td>\n",
              "      <td>1680 sqft</td>\n",
              "      <td>NaN</td>\n",
              "      <td>NaN</td>\n",
              "      <td>Low</td>\n",
              "    </tr>\n",
              "    <tr>\n",
              "      <th>187528</th>\n",
              "      <td>187528</td>\n",
              "      <td>3 BHK Ready to Occupy Flat for sale in Bollywo...</td>\n",
              "      <td>Gazipur, Zirakpur has an appealing 3 BHK flat ...</td>\n",
              "      <td>76 Lac</td>\n",
              "      <td>4343.0</td>\n",
              "      <td>zirakpur</td>\n",
              "      <td>1250 sqft</td>\n",
              "      <td>Ready to Move</td>\n",
              "      <td>1 out of 3</td>\n",
              "      <td>Resale</td>\n",
              "      <td>...</td>\n",
              "      <td>Garden/Park, Main Road</td>\n",
              "      <td>Bollywood Esencia</td>\n",
              "      <td>3</td>\n",
              "      <td>2</td>\n",
              "      <td>1 Covered,</td>\n",
              "      <td>Freehold</td>\n",
              "      <td>NaN</td>\n",
              "      <td>NaN</td>\n",
              "      <td>NaN</td>\n",
              "      <td>Medium</td>\n",
              "    </tr>\n",
              "    <tr>\n",
              "      <th>187529</th>\n",
              "      <td>187529</td>\n",
              "      <td>2 BHK Ready to Occupy Flat for sale in Friends...</td>\n",
              "      <td>Up for immediate sale is a 2 BHK apartment in ...</td>\n",
              "      <td>30 Lac</td>\n",
              "      <td>4231.0</td>\n",
              "      <td>zirakpur</td>\n",
              "      <td>NaN</td>\n",
              "      <td>Ready to Move</td>\n",
              "      <td>2 out of 2</td>\n",
              "      <td>Resale</td>\n",
              "      <td>...</td>\n",
              "      <td>Main Road</td>\n",
              "      <td>Friends Enclave</td>\n",
              "      <td>2</td>\n",
              "      <td>NaN</td>\n",
              "      <td>NaN</td>\n",
              "      <td>NaN</td>\n",
              "      <td>709 sqft</td>\n",
              "      <td>NaN</td>\n",
              "      <td>NaN</td>\n",
              "      <td>Low</td>\n",
              "    </tr>\n",
              "    <tr>\n",
              "      <th>187530</th>\n",
              "      <td>187530</td>\n",
              "      <td>3 BHK Ready to Occupy Flat for sale in Affinit...</td>\n",
              "      <td>This exquisite 3 BHK Flat is offered for sale ...</td>\n",
              "      <td>1.18 Cr</td>\n",
              "      <td>6162.0</td>\n",
              "      <td>zirakpur</td>\n",
              "      <td>NaN</td>\n",
              "      <td>Ready to Move</td>\n",
              "      <td>5 out of 13</td>\n",
              "      <td>Resale</td>\n",
              "      <td>...</td>\n",
              "      <td>Garden/Park, Pool</td>\n",
              "      <td>Affinity Greens</td>\n",
              "      <td>4</td>\n",
              "      <td>4</td>\n",
              "      <td>1 Covered</td>\n",
              "      <td>Freehold</td>\n",
              "      <td>1915 sqft</td>\n",
              "      <td>NaN</td>\n",
              "      <td>NaN</td>\n",
              "      <td>Medium</td>\n",
              "    </tr>\n",
              "  </tbody>\n",
              "</table>\n",
              "<p>187531 rows × 22 columns</p>\n",
              "</div>\n",
              "      <button class=\"colab-df-convert\" onclick=\"convertToInteractive('df-b48cd518-9b9e-4fac-aca5-6e1efcf0a64c')\"\n",
              "              title=\"Convert this dataframe to an interactive table.\"\n",
              "              style=\"display:none;\">\n",
              "\n",
              "  <svg xmlns=\"http://www.w3.org/2000/svg\" height=\"24px\"viewBox=\"0 0 24 24\"\n",
              "       width=\"24px\">\n",
              "    <path d=\"M0 0h24v24H0V0z\" fill=\"none\"/>\n",
              "    <path d=\"M18.56 5.44l.94 2.06.94-2.06 2.06-.94-2.06-.94-.94-2.06-.94 2.06-2.06.94zm-11 1L8.5 8.5l.94-2.06 2.06-.94-2.06-.94L8.5 2.5l-.94 2.06-2.06.94zm10 10l.94 2.06.94-2.06 2.06-.94-2.06-.94-.94-2.06-.94 2.06-2.06.94z\"/><path d=\"M17.41 7.96l-1.37-1.37c-.4-.4-.92-.59-1.43-.59-.52 0-1.04.2-1.43.59L10.3 9.45l-7.72 7.72c-.78.78-.78 2.05 0 2.83L4 21.41c.39.39.9.59 1.41.59.51 0 1.02-.2 1.41-.59l7.78-7.78 2.81-2.81c.8-.78.8-2.07 0-2.86zM5.41 20L4 18.59l7.72-7.72 1.47 1.35L5.41 20z\"/>\n",
              "  </svg>\n",
              "      </button>\n",
              "\n",
              "\n",
              "\n",
              "    <div id=\"df-0ccd757c-6386-49a3-8c83-ba6cce0e5369\">\n",
              "      <button class=\"colab-df-quickchart\" onclick=\"quickchart('df-0ccd757c-6386-49a3-8c83-ba6cce0e5369')\"\n",
              "              title=\"Suggest charts.\"\n",
              "              style=\"display:none;\">\n",
              "\n",
              "<svg xmlns=\"http://www.w3.org/2000/svg\" height=\"24px\"viewBox=\"0 0 24 24\"\n",
              "     width=\"24px\">\n",
              "    <g>\n",
              "        <path d=\"M19 3H5c-1.1 0-2 .9-2 2v14c0 1.1.9 2 2 2h14c1.1 0 2-.9 2-2V5c0-1.1-.9-2-2-2zM9 17H7v-7h2v7zm4 0h-2V7h2v10zm4 0h-2v-4h2v4z\"/>\n",
              "    </g>\n",
              "</svg>\n",
              "      </button>\n",
              "    </div>\n",
              "\n",
              "<style>\n",
              "  .colab-df-quickchart {\n",
              "    background-color: #E8F0FE;\n",
              "    border: none;\n",
              "    border-radius: 50%;\n",
              "    cursor: pointer;\n",
              "    display: none;\n",
              "    fill: #1967D2;\n",
              "    height: 32px;\n",
              "    padding: 0 0 0 0;\n",
              "    width: 32px;\n",
              "  }\n",
              "\n",
              "  .colab-df-quickchart:hover {\n",
              "    background-color: #E2EBFA;\n",
              "    box-shadow: 0px 1px 2px rgba(60, 64, 67, 0.3), 0px 1px 3px 1px rgba(60, 64, 67, 0.15);\n",
              "    fill: #174EA6;\n",
              "  }\n",
              "\n",
              "  [theme=dark] .colab-df-quickchart {\n",
              "    background-color: #3B4455;\n",
              "    fill: #D2E3FC;\n",
              "  }\n",
              "\n",
              "  [theme=dark] .colab-df-quickchart:hover {\n",
              "    background-color: #434B5C;\n",
              "    box-shadow: 0px 1px 3px 1px rgba(0, 0, 0, 0.15);\n",
              "    filter: drop-shadow(0px 1px 2px rgba(0, 0, 0, 0.3));\n",
              "    fill: #FFFFFF;\n",
              "  }\n",
              "</style>\n",
              "\n",
              "    <script>\n",
              "      async function quickchart(key) {\n",
              "        const containerElement = document.querySelector('#' + key);\n",
              "        const charts = await google.colab.kernel.invokeFunction(\n",
              "            'suggestCharts', [key], {});\n",
              "      }\n",
              "    </script>\n",
              "\n",
              "      <script>\n",
              "\n",
              "function displayQuickchartButton(domScope) {\n",
              "  let quickchartButtonEl =\n",
              "    domScope.querySelector('#df-0ccd757c-6386-49a3-8c83-ba6cce0e5369 button.colab-df-quickchart');\n",
              "  quickchartButtonEl.style.display =\n",
              "    google.colab.kernel.accessAllowed ? 'block' : 'none';\n",
              "}\n",
              "\n",
              "        displayQuickchartButton(document);\n",
              "      </script>\n",
              "      <style>\n",
              "    .colab-df-container {\n",
              "      display:flex;\n",
              "      flex-wrap:wrap;\n",
              "      gap: 12px;\n",
              "    }\n",
              "\n",
              "    .colab-df-convert {\n",
              "      background-color: #E8F0FE;\n",
              "      border: none;\n",
              "      border-radius: 50%;\n",
              "      cursor: pointer;\n",
              "      display: none;\n",
              "      fill: #1967D2;\n",
              "      height: 32px;\n",
              "      padding: 0 0 0 0;\n",
              "      width: 32px;\n",
              "    }\n",
              "\n",
              "    .colab-df-convert:hover {\n",
              "      background-color: #E2EBFA;\n",
              "      box-shadow: 0px 1px 2px rgba(60, 64, 67, 0.3), 0px 1px 3px 1px rgba(60, 64, 67, 0.15);\n",
              "      fill: #174EA6;\n",
              "    }\n",
              "\n",
              "    [theme=dark] .colab-df-convert {\n",
              "      background-color: #3B4455;\n",
              "      fill: #D2E3FC;\n",
              "    }\n",
              "\n",
              "    [theme=dark] .colab-df-convert:hover {\n",
              "      background-color: #434B5C;\n",
              "      box-shadow: 0px 1px 3px 1px rgba(0, 0, 0, 0.15);\n",
              "      filter: drop-shadow(0px 1px 2px rgba(0, 0, 0, 0.3));\n",
              "      fill: #FFFFFF;\n",
              "    }\n",
              "  </style>\n",
              "\n",
              "      <script>\n",
              "        const buttonEl =\n",
              "          document.querySelector('#df-b48cd518-9b9e-4fac-aca5-6e1efcf0a64c button.colab-df-convert');\n",
              "        buttonEl.style.display =\n",
              "          google.colab.kernel.accessAllowed ? 'block' : 'none';\n",
              "\n",
              "        async function convertToInteractive(key) {\n",
              "          const element = document.querySelector('#df-b48cd518-9b9e-4fac-aca5-6e1efcf0a64c');\n",
              "          const dataTable =\n",
              "            await google.colab.kernel.invokeFunction('convertToInteractive',\n",
              "                                                     [key], {});\n",
              "          if (!dataTable) return;\n",
              "\n",
              "          const docLinkHtml = 'Like what you see? Visit the ' +\n",
              "            '<a target=\"_blank\" href=https://colab.research.google.com/notebooks/data_table.ipynb>data table notebook</a>'\n",
              "            + ' to learn more about interactive tables.';\n",
              "          element.innerHTML = '';\n",
              "          dataTable['output_type'] = 'display_data';\n",
              "          await google.colab.output.renderOutput(dataTable, element);\n",
              "          const docLink = document.createElement('div');\n",
              "          docLink.innerHTML = docLinkHtml;\n",
              "          element.appendChild(docLink);\n",
              "        }\n",
              "      </script>\n",
              "    </div>\n",
              "  </div>\n"
            ]
          },
          "metadata": {},
          "execution_count": 5
        }
      ]
    },
    {
      "cell_type": "markdown",
      "source": [
        "## Exercício 2 - Exploração de Propriedades\n"
      ],
      "metadata": {
        "id": "pIGLKr7Rbf1u"
      }
    },
    {
      "cell_type": "code",
      "source": [
        "grouped = df.groupby(\"Furnishing\")\n",
        "grouped = grouped.indices\n",
        "furnished, unfurnished, semi_furnished = [grouped[\"Furnished\"].size, grouped[\"Unfurnished\"].size, grouped[\"Semi-Furnished\"].size]\n",
        "all_furnishing = furnished + unfurnished + semi_furnished\n",
        "print(\"Furnished: \" + str(furnished) + \", \" + str(round(((furnished/all_furnishing)*100), 2)) + \" %\" +  \"\\n\" +\n",
        "\"Unfurnished: \" + str(unfurnished) + \", \" + str(round(((unfurnished/all_furnishing)*100), 2)) + \" %\"  + \"\\n\" +\n",
        "\"Semi-Furnished: \" + str(semi_furnished) + \", \" + str(round(((semi_furnished/all_furnishing)*100), 2)) + \" %\"  + \"\\n\")"
      ],
      "metadata": {
        "id": "Ir_wWqcGMBdI",
        "colab": {
          "base_uri": "https://localhost:8080/"
        },
        "outputId": "c9145ba7-e342-4ccf-cf13-ad2f045cd59b"
      },
      "execution_count": 6,
      "outputs": [
        {
          "output_type": "stream",
          "name": "stdout",
          "text": [
            "Furnished: 20162, 10.92 %\n",
            "Unfurnished: 76154, 41.25 %\n",
            "Semi-Furnished: 88318, 47.83 %\n",
            "\n"
          ]
        }
      ]
    },
    {
      "cell_type": "markdown",
      "source": [
        "## Exercício 3 - Análise por Tipo de Transação"
      ],
      "metadata": {
        "id": "9flihCsXEjkR"
      }
    },
    {
      "cell_type": "code",
      "source": [
        "print(df.isnull().sum())"
      ],
      "metadata": {
        "colab": {
          "base_uri": "https://localhost:8080/"
        },
        "id": "owQIZJwg2hqb",
        "outputId": "3356513d-495f-4a0f-a69c-caf874972a77"
      },
      "execution_count": 12,
      "outputs": [
        {
          "output_type": "stream",
          "name": "stdout",
          "text": [
            "Index                     0\n",
            "Title                     0\n",
            "Description            3023\n",
            "Amount(in rupees)         0\n",
            "Price (in rupees)     17665\n",
            "location                  0\n",
            "Carpet Area           80673\n",
            "Status                  615\n",
            "Floor                  7077\n",
            "Transaction              83\n",
            "Furnishing             2897\n",
            "facing                70233\n",
            "overlooking           81436\n",
            "Society              109678\n",
            "Bathroom                828\n",
            "Balcony               48935\n",
            "Car Parking          103357\n",
            "Ownership             65517\n",
            "Super Area           107685\n",
            "Dimensions           187531\n",
            "Plot Area            187531\n",
            "price_category            0\n",
            "dtype: int64\n"
          ]
        }
      ]
    },
    {
      "cell_type": "code",
      "source": [
        "df.columns"
      ],
      "metadata": {
        "colab": {
          "base_uri": "https://localhost:8080/"
        },
        "id": "YqWreHaEEmh2",
        "outputId": "94292c38-4ff7-41c4-b0f8-9f18cb14155a"
      },
      "execution_count": 7,
      "outputs": [
        {
          "output_type": "execute_result",
          "data": {
            "text/plain": [
              "Index(['Index', 'Title', 'Description', 'Amount(in rupees)',\n",
              "       'Price (in rupees)', 'location', 'Carpet Area', 'Status', 'Floor',\n",
              "       'Transaction', 'Furnishing', 'facing', 'overlooking', 'Society',\n",
              "       'Bathroom', 'Balcony', 'Car Parking', 'Ownership', 'Super Area',\n",
              "       'Dimensions', 'Plot Area', 'price_category'],\n",
              "      dtype='object')"
            ]
          },
          "metadata": {},
          "execution_count": 7
        }
      ]
    },
    {
      "cell_type": "code",
      "source": [
        "df[\"Floor\"]"
      ],
      "metadata": {
        "colab": {
          "base_uri": "https://localhost:8080/"
        },
        "id": "fWfeOg7gE6n5",
        "outputId": "eb2f3cab-ac3f-4a9d-f546-a4ba95d18abd"
      },
      "execution_count": 15,
      "outputs": [
        {
          "output_type": "execute_result",
          "data": {
            "text/plain": [
              "0         10 out of 11\n",
              "1          3 out of 22\n",
              "2         10 out of 29\n",
              "3           1 out of 3\n",
              "4         20 out of 42\n",
              "              ...     \n",
              "187526      2 out of 4\n",
              "187527      4 out of 6\n",
              "187528      1 out of 3\n",
              "187529      2 out of 2\n",
              "187530     5 out of 13\n",
              "Name: Floor, Length: 187531, dtype: object"
            ]
          },
          "metadata": {},
          "execution_count": 15
        }
      ]
    },
    {
      "cell_type": "code",
      "source": [
        "df[\"Carpet Area\"]"
      ],
      "metadata": {
        "colab": {
          "base_uri": "https://localhost:8080/"
        },
        "id": "EFcDsLvNFYiP",
        "outputId": "046e3e20-c727-4b3f-e764-f1df20f5f4a1"
      },
      "execution_count": 9,
      "outputs": [
        {
          "output_type": "execute_result",
          "data": {
            "text/plain": [
              "0          500 sqft\n",
              "1          473 sqft\n",
              "2          779 sqft\n",
              "3          530 sqft\n",
              "4          635 sqft\n",
              "            ...    \n",
              "187526          NaN\n",
              "187527          NaN\n",
              "187528    1250 sqft\n",
              "187529          NaN\n",
              "187530          NaN\n",
              "Name: Carpet Area, Length: 187531, dtype: object"
            ]
          },
          "metadata": {},
          "execution_count": 9
        }
      ]
    }
  ]
}