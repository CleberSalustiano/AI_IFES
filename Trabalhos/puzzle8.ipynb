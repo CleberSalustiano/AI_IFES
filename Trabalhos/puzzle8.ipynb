{
  "cells": [
    {
      "cell_type": "markdown",
      "metadata": {
        "id": "view-in-github",
        "colab_type": "text"
      },
      "source": [
        "<a href=\"https://colab.research.google.com/github/CleberSalustiano/AI_IFES/blob/main/Trabalhos/puzzle8.ipynb\" target=\"_parent\"><img src=\"https://colab.research.google.com/assets/colab-badge.svg\" alt=\"Open In Colab\"/></a>"
      ]
    },
    {
      "cell_type": "code",
      "execution_count": null,
      "metadata": {
        "colab": {
          "base_uri": "https://localhost:8080/"
        },
        "id": "zhWuakAg7OjH",
        "outputId": "6def7534-3a63-4440-8afa-bbf6a1ace59f"
      },
      "outputs": [
        {
          "output_type": "stream",
          "name": "stdout",
          "text": [
            "828790\n"
          ]
        }
      ],
      "source": [
        "import random\n",
        "\n",
        "def encontra_zero(jogo):\n",
        "  index_linha = 0\n",
        "  for linha in jogo:\n",
        "    index_coluna = 0\n",
        "    for elemento in linha:\n",
        "      if(elemento == 0):\n",
        "        return (index_linha, index_coluna)\n",
        "      index_coluna += 1\n",
        "    index_linha += 1\n",
        "\n",
        "def jogadas_possiveis(jogo):\n",
        "  (index_linha, index_coluna) = encontra_zero(jogo)\n",
        "  jogadas = []\n",
        "  posicao_maxima = len(jogo) - 1\n",
        "\n",
        "  # caso esteja no meio\n",
        "  if (index_linha > 0 and index_linha < posicao_maxima) and (index_coluna > 0 and index_coluna < posicao_maxima):\n",
        "    jogadas.append((index_linha + 1, index_coluna))\n",
        "    jogadas.append((index_linha - 1, index_coluna))\n",
        "    jogadas.append((index_linha, index_coluna + 1))\n",
        "    jogadas.append((index_linha, index_coluna - 1))\n",
        "    return jogadas\n",
        "\n",
        "  # caso esteja nas quinas\n",
        "  if (index_linha == 0 or index_linha == posicao_maxima) and (index_coluna == 0 or index_coluna == posicao_maxima):\n",
        "    if(index_linha == posicao_maxima): index_linha_alterado = index_linha - 1\n",
        "    else: index_linha_alterado = index_linha + 1\n",
        "    jogadas.append((index_linha_alterado, index_coluna))\n",
        "\n",
        "    if(index_coluna == posicao_maxima): index_coluna_alterado = index_coluna - 1\n",
        "    else: index_coluna_alterado = index_coluna + 1\n",
        "    jogadas.append((index_linha, index_coluna_alterado))\n",
        "    return jogadas\n",
        "\n",
        "  # caso esteja nos cantos\n",
        "  else:\n",
        "    if(index_linha > 0 and index_linha < posicao_maxima):\n",
        "      jogadas.append((index_linha + 1, index_coluna))\n",
        "      jogadas.append((index_linha - 1, index_coluna))\n",
        "      if (index_coluna == 2): jogadas.append((index_linha, index_coluna - 1))\n",
        "      else: jogadas.append((index_linha, index_coluna + 1))\n",
        "\n",
        "    if(index_coluna > 0 and index_coluna < posicao_maxima):\n",
        "      jogadas.append((index_linha, index_coluna + 1))\n",
        "      jogadas.append((index_linha, index_coluna - 1))\n",
        "      if (index_linha == 2): jogadas.append((index_linha - 1, index_coluna ))\n",
        "      else: jogadas.append((index_linha + 1, index_coluna))\n",
        "    return jogadas\n",
        "\n",
        "def move_zero(jogada, jogo):\n",
        "  (index_linha_zero, index_coluna_zero) = encontra_zero(jogo)\n",
        "  (index_linha_jogada, index_coluna_jogada) = jogada\n",
        "  valor_anterior = jogo[index_linha_jogada][index_coluna_jogada]\n",
        "  jogo[index_linha_jogada][index_coluna_jogada] = 0\n",
        "  jogo[index_linha_zero][index_coluna_zero] = valor_anterior\n",
        "  return jogo\n",
        "\n",
        "def main():\n",
        "  jogo = [[8, 5, 7],\n",
        "          [3, 0, 6],\n",
        "          [4, 2, 1]]\n",
        "  quantidade_jogadas = 0\n",
        "  # código principal\n",
        "  while jogo != [[1,2,3], [4,5,6], [7,8,0]]:\n",
        "    jogadas = jogadas_possiveis(jogo)\n",
        "    jogada_escolhida = jogadas[random.randint(0, len(jogadas) - 1)]\n",
        "    move_zero(jogada_escolhida, jogo)\n",
        "    quantidade_jogadas += 1\n",
        "  print(quantidade_jogadas)\n",
        "\n",
        "main()"
      ]
    },
    {
      "cell_type": "markdown",
      "source": [
        "ChatGPT - Versão 1"
      ],
      "metadata": {
        "id": "TY8n_thOJ1B_"
      }
    },
    {
      "cell_type": "code",
      "source": [
        "import heapq\n",
        "\n",
        "# Função para calcular a distância de Manhattan entre duas posições (i, j) e (x, y).\n",
        "def manhattan_distance(i, j, x, y):\n",
        "    return abs(i - x) + abs(j - y)\n",
        "\n",
        "# Função para encontrar o estado objetivo.\n",
        "def is_goal(state):\n",
        "    return state == goal_state\n",
        "\n",
        "# Função para gerar os movimentos válidos a partir de um estado dado.\n",
        "def generate_moves(state):\n",
        "    moves = []\n",
        "    zero_row, zero_col = state.index(0) // 3, state.index(0) % 3\n",
        "\n",
        "    for dr, dc in [(-1, 0), (1, 0), (0, -1), (0, 1)]:\n",
        "        new_row, new_col = zero_row + dr, zero_col + dc\n",
        "\n",
        "        if 0 <= new_row < 3 and 0 <= new_col < 3:\n",
        "            new_state = list(state)\n",
        "            new_state[zero_row * 3 + zero_col], new_state[new_row * 3 + new_col] = new_state[new_row * 3 + new_col], new_state[zero_row * 3 + zero_col]\n",
        "            moves.append(tuple(new_state))\n",
        "\n",
        "    return moves\n",
        "\n",
        "# Função para calcular a função de custo (f(n)) de um estado.\n",
        "def calculate_cost(state):\n",
        "    cost = 0\n",
        "\n",
        "    for i in range(3):\n",
        "        for j in range(3):\n",
        "            value = state[i * 3 + j]\n",
        "            if value != 0:\n",
        "                goal_row, goal_col = value // 3, value % 3\n",
        "                cost += manhattan_distance(i, j, goal_row, goal_col)\n",
        "\n",
        "    return cost\n",
        "\n",
        "# Função para resolver o quebra-cabeça 8-puzzle usando busca A* com distância de Manhattan.\n",
        "def solve_puzzle(initial_state):\n",
        "    priority_queue = [(0, initial_state)]\n",
        "    visited = set()\n",
        "    parent = {}\n",
        "    cost_so_far = {initial_state: 0}\n",
        "\n",
        "    while priority_queue:\n",
        "        _, current_state = heapq.heappop(priority_queue)\n",
        "\n",
        "        if is_goal(current_state):\n",
        "            path = []\n",
        "            while current_state != initial_state:\n",
        "                path.append(current_state)\n",
        "                current_state = parent[current_state]\n",
        "            path.append(initial_state)\n",
        "            path.reverse()\n",
        "            return path\n",
        "\n",
        "        visited.add(current_state)\n",
        "\n",
        "        for next_state in generate_moves(current_state):\n",
        "            if next_state in visited:\n",
        "                continue\n",
        "\n",
        "            new_cost = cost_so_far[current_state] + 1\n",
        "\n",
        "            if next_state not in cost_so_far or new_cost < cost_so_far[next_state]:\n",
        "                cost_so_far[next_state] = new_cost\n",
        "                priority = new_cost + calculate_cost(next_state)\n",
        "                heapq.heappush(priority_queue, (priority, next_state))\n",
        "                parent[next_state] = current_state\n",
        "\n",
        "    return None\n",
        "\n",
        "# Estado inicial e estado objetivo (representados como tuplas de 9 elementos).\n",
        "initial_state = (4, 5, 7,\n",
        "                 6, 3, 2,\n",
        "                 1, 0, 8)\n",
        "goal_state = (1, 2, 3,\n",
        "              4, 5, 6,\n",
        "              7, 8, 0)\n",
        "\n",
        "# Resolvendo o quebra-cabeça e imprimindo a solução.\n",
        "solution_path = solve_puzzle(initial_state)\n",
        "if solution_path:\n",
        "    print(\"Solução encontrada em {} movimentos\".format(len(solution_path) - 1))\n",
        "    # for step, state in enumerate(solution_path):\n",
        "    #     print(\"Passo {}: \".format(step), state[:3])\n",
        "    #     print(\"        \", state[3:6])\n",
        "    #     print(\"        \", state[6:])\n",
        "    #     print()\n",
        "else:\n",
        "    print(\"Não foi encontrada uma solução para o quebra-cabeça.\")\n"
      ],
      "metadata": {
        "colab": {
          "base_uri": "https://localhost:8080/"
        },
        "id": "zoSPKXwgJIIj",
        "outputId": "bb268be5-82f5-45d7-e7fa-cb580fee310a"
      },
      "execution_count": null,
      "outputs": [
        {
          "output_type": "stream",
          "name": "stdout",
          "text": [
            "Solução encontrada em 27 movimentos\n"
          ]
        }
      ]
    },
    {
      "cell_type": "code",
      "source": [],
      "metadata": {
        "colab": {
          "base_uri": "https://localhost:8080/",
          "height": 366
        },
        "id": "UvCoMtknXJ-s",
        "outputId": "d18b4945-6674-45b8-b348-83c127350605"
      },
      "execution_count": null,
      "outputs": [
        {
          "output_type": "error",
          "ename": "KeyError",
          "evalue": "ignored",
          "traceback": [
            "\u001b[0;31m---------------------------------------------------------------------------\u001b[0m",
            "\u001b[0;31mKeyError\u001b[0m                                  Traceback (most recent call last)",
            "\u001b[0;32m<ipython-input-2-9c1c4949c066>\u001b[0m in \u001b[0;36m<cell line: 89>\u001b[0;34m()\u001b[0m\n\u001b[1;32m     87\u001b[0m \u001b[0;34m\u001b[0m\u001b[0m\n\u001b[1;32m     88\u001b[0m \u001b[0;31m# Resolvendo o quebra-cabeça e imprimindo a solução.\u001b[0m\u001b[0;34m\u001b[0m\u001b[0;34m\u001b[0m\u001b[0m\n\u001b[0;32m---> 89\u001b[0;31m \u001b[0msolution_path\u001b[0m \u001b[0;34m=\u001b[0m \u001b[0msolve_puzzle\u001b[0m\u001b[0;34m(\u001b[0m\u001b[0minitial_state\u001b[0m\u001b[0;34m)\u001b[0m\u001b[0;34m\u001b[0m\u001b[0;34m\u001b[0m\u001b[0m\n\u001b[0m\u001b[1;32m     90\u001b[0m \u001b[0;32mif\u001b[0m \u001b[0msolution_path\u001b[0m\u001b[0;34m:\u001b[0m\u001b[0;34m\u001b[0m\u001b[0;34m\u001b[0m\u001b[0m\n\u001b[1;32m     91\u001b[0m     \u001b[0mprint\u001b[0m\u001b[0;34m(\u001b[0m\u001b[0;34m\"Solução encontrada em movimentos\"\u001b[0m\u001b[0;34m,\u001b[0m \u001b[0mlen\u001b[0m\u001b[0;34m(\u001b[0m\u001b[0msolution_path\u001b[0m\u001b[0;34m)\u001b[0m\u001b[0;34m)\u001b[0m\u001b[0;34m\u001b[0m\u001b[0;34m\u001b[0m\u001b[0m\n",
            "\u001b[0;32m<ipython-input-2-9c1c4949c066>\u001b[0m in \u001b[0;36msolve_puzzle\u001b[0;34m(initial_state)\u001b[0m\n\u001b[1;32m     60\u001b[0m                 \u001b[0mpath\u001b[0m\u001b[0;34m.\u001b[0m\u001b[0mappend\u001b[0m\u001b[0;34m(\u001b[0m\u001b[0mcurrent_state\u001b[0m\u001b[0;34m)\u001b[0m\u001b[0;34m\u001b[0m\u001b[0;34m\u001b[0m\u001b[0m\n\u001b[1;32m     61\u001b[0m                 \u001b[0mcurrent_state_tuple\u001b[0m \u001b[0;34m=\u001b[0m \u001b[0mtuple\u001b[0m\u001b[0;34m(\u001b[0m\u001b[0mmap\u001b[0m\u001b[0;34m(\u001b[0m\u001b[0mtuple\u001b[0m\u001b[0;34m,\u001b[0m \u001b[0mcurrent_state\u001b[0m\u001b[0;34m)\u001b[0m\u001b[0;34m)\u001b[0m\u001b[0;34m\u001b[0m\u001b[0;34m\u001b[0m\u001b[0m\n\u001b[0;32m---> 62\u001b[0;31m                 \u001b[0mcurrent_state\u001b[0m \u001b[0;34m=\u001b[0m \u001b[0mparent\u001b[0m\u001b[0;34m[\u001b[0m\u001b[0mcurrent_state_tuple\u001b[0m\u001b[0;34m]\u001b[0m\u001b[0;34m\u001b[0m\u001b[0;34m\u001b[0m\u001b[0m\n\u001b[0m\u001b[1;32m     63\u001b[0m             \u001b[0mpath\u001b[0m\u001b[0;34m.\u001b[0m\u001b[0mappend\u001b[0m\u001b[0;34m(\u001b[0m\u001b[0minitial_state\u001b[0m\u001b[0;34m)\u001b[0m\u001b[0;34m\u001b[0m\u001b[0;34m\u001b[0m\u001b[0m\n\u001b[1;32m     64\u001b[0m             \u001b[0mpath\u001b[0m\u001b[0;34m.\u001b[0m\u001b[0mreverse\u001b[0m\u001b[0;34m(\u001b[0m\u001b[0;34m)\u001b[0m\u001b[0;34m\u001b[0m\u001b[0;34m\u001b[0m\u001b[0m\n",
            "\u001b[0;31mKeyError\u001b[0m: ((4, 5, 7), (6, 3, 2), (1, 0, 8))"
          ]
        }
      ]
    }
  ],
  "metadata": {
    "colab": {
      "provenance": [],
      "authorship_tag": "ABX9TyP+12ZAH7Zb1tL1mviB2Ipx",
      "include_colab_link": true
    },
    "kernelspec": {
      "display_name": "Python 3",
      "name": "python3"
    },
    "language_info": {
      "name": "python"
    }
  },
  "nbformat": 4,
  "nbformat_minor": 0
}