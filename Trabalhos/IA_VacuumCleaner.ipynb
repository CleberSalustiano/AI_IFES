{
  "nbformat": 4,
  "nbformat_minor": 0,
  "metadata": {
    "colab": {
      "provenance": [],
      "authorship_tag": "ABX9TyO9+jaJecRznVcMru5vBYbz",
      "include_colab_link": true
    },
    "kernelspec": {
      "name": "python3",
      "display_name": "Python 3"
    },
    "language_info": {
      "name": "python"
    }
  },
  "cells": [
    {
      "cell_type": "markdown",
      "metadata": {
        "id": "view-in-github",
        "colab_type": "text"
      },
      "source": [
        "<a href=\"https://colab.research.google.com/github/CleberSalustiano/AI_IFES/blob/main/Trabalhos/IA_VacuumCleaner.ipynb\" target=\"_parent\"><img src=\"https://colab.research.google.com/assets/colab-badge.svg\" alt=\"Open In Colab\"/></a>"
      ]
    },
    {
      "cell_type": "code",
      "execution_count": null,
      "metadata": {
        "id": "--Jbo-KWY43R"
      },
      "outputs": [],
      "source": [
        "class VacuumCleaner:\n",
        "  def __init__ (self, initialPos, environment):\n",
        "    self.position = initialPos\n",
        "    self.environment = environment\n",
        "\n",
        "  def move(self, direction):\n",
        "    if (direction == \"right\" and self.position < len(self.environment.positions) - 1):\n",
        "      self.position += 1\n",
        "    if (direction == \"left\" and self.position > 0):\n",
        "      self.posiiotn -= 1\n",
        "    else:\n",
        "      print(\"Can't move to this side\")\n",
        "\n",
        "  def isDirt(self):\n",
        "    if (self.environment.positions[self.position] == 1): return True\n",
        "    else: return False\n",
        "\n",
        "  def clear(self):\n",
        "    self.environment.positions[self.position] = 0\n",
        "\n",
        "  # def run(self, times):\n",
        "\n",
        "\n",
        "class Environment:\n",
        "  def __init__ (self, positions):\n",
        "    self.positions = positions\n",
        "\n",
        "  def isEnvironmentCleaned (self):\n",
        "\n",
        "\n",
        "\n"
      ]
    }
  ]
}